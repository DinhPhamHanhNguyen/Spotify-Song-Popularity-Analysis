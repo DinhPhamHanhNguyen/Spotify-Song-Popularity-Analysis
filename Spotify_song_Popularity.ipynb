{
 "cells": [
  {
   "cell_type": "markdown",
   "metadata": {},
   "source": [
    "### 1. About Dataset\n",
    "This dataset contains various attributes of songs, such as their audio features, popularity, artist, album, release date, and more.  It allows for in-depth analysis and offers valuable insights into music trends.\n",
    "#### Features\n",
    "- genre: the actual genre of each song\n",
    "- artist_name: Artist(s) responsible for creating the song\n",
    "- track_name: actual name of the song\n",
    "- track_id: the actual id of the song\n",
    "- popularity: \n"
   ]
  }
 ],
 "metadata": {
  "language_info": {
   "name": "python"
  }
 },
 "nbformat": 4,
 "nbformat_minor": 2
}
